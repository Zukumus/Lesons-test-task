{
  "nbformat": 4,
  "nbformat_minor": 0,
  "metadata": {
    "colab": {
      "name": "predict_price.ipynb",
      "provenance": [],
      "collapsed_sections": [],
      "authorship_tag": "ABX9TyMd5kvu/GIHST+tKtri/E/y",
      "include_colab_link": true
    },
    "kernelspec": {
      "name": "python3",
      "display_name": "Python 3"
    },
    "language_info": {
      "name": "python"
    }
  },
  "cells": [
    {
      "cell_type": "markdown",
      "metadata": {
        "id": "view-in-github",
        "colab_type": "text"
      },
      "source": [
        "<a href=\"https://colab.research.google.com/github/Zukumus/Lesons-test-task/blob/main/predict_price.ipynb\" target=\"_parent\"><img src=\"https://colab.research.google.com/assets/colab-badge.svg\" alt=\"Open In Colab\"/></a>"
      ]
    },
    {
      "cell_type": "code",
      "metadata": {
        "id": "ZnwwFPXSIbgn"
      },
      "source": [
        "import pandas as pd\n",
        "from datetime import timedelta\n",
        "import numpy as np\n",
        "import tensorflow as tf\n",
        "from sklearn.preprocessing import StandardScaler\n",
        "from sklearn.metrics import mean_absolute_error\n",
        "from matplotlib import pyplot as plt\n",
        "from typing import List"
      ],
      "execution_count": 149,
      "outputs": []
    },
    {
      "cell_type": "code",
      "metadata": {
        "id": "Pl4BpEaq1O4q"
      },
      "source": [
        "# перводим в нужный тип, работаем с датами, переводим в тип ДАТА\n",
        "aapl_df = pd.read_csv('/content/aapl.csv', parse_dates=['Date'])"
      ],
      "execution_count": 150,
      "outputs": []
    },
    {
      "cell_type": "code",
      "metadata": {
        "colab": {
          "base_uri": "https://localhost:8080/"
        },
        "id": "S5Cr1fsa1ZEO",
        "outputId": "4b7e40f4-0803-4e7a-818f-71f710a7c1ae"
      },
      "source": [
        "print(aapl_df)"
      ],
      "execution_count": 151,
      "outputs": [
        {
          "output_type": "stream",
          "name": "stdout",
          "text": [
            "           Date       Open       High        Low      Close    Volume  OpenInt\n",
            "0    1984-09-07    0.42388    0.42902    0.41874    0.42388  23220030        0\n",
            "1    1984-09-10    0.42388    0.42516    0.41366    0.42134  18022532        0\n",
            "2    1984-09-11    0.42516    0.43668    0.42516    0.42902  42498199        0\n",
            "3    1984-09-12    0.42902    0.43157    0.41618    0.41618  37125801        0\n",
            "4    1984-09-13    0.43927    0.44052    0.43927    0.43927  57822062        0\n",
            "...         ...        ...        ...        ...        ...       ...      ...\n",
            "8359 2017-11-06  171.75000  174.36000  171.10000  173.63000  34901241        0\n",
            "8360 2017-11-07  173.29000  174.51000  173.29000  174.18000  24424877        0\n",
            "8361 2017-11-08  174.03000  175.61000  173.71000  175.61000  24451166        0\n",
            "8362 2017-11-09  174.48000  175.46000  172.52000  175.25000  29533086        0\n",
            "8363 2017-11-10  175.11000  175.38000  174.27000  174.67000  25130494        0\n",
            "\n",
            "[8364 rows x 7 columns]\n"
          ]
        }
      ]
    },
    {
      "cell_type": "code",
      "metadata": {
        "colab": {
          "base_uri": "https://localhost:8080/",
          "height": 111
        },
        "id": "gNV1qFMq1jhW",
        "outputId": "1a1770f2-af83-440c-fdcc-1bd1b1a7ffa7"
      },
      "source": [
        "aapl_df.head(2)"
      ],
      "execution_count": 152,
      "outputs": [
        {
          "output_type": "execute_result",
          "data": {
            "text/html": [
              "<div>\n",
              "<style scoped>\n",
              "    .dataframe tbody tr th:only-of-type {\n",
              "        vertical-align: middle;\n",
              "    }\n",
              "\n",
              "    .dataframe tbody tr th {\n",
              "        vertical-align: top;\n",
              "    }\n",
              "\n",
              "    .dataframe thead th {\n",
              "        text-align: right;\n",
              "    }\n",
              "</style>\n",
              "<table border=\"1\" class=\"dataframe\">\n",
              "  <thead>\n",
              "    <tr style=\"text-align: right;\">\n",
              "      <th></th>\n",
              "      <th>Date</th>\n",
              "      <th>Open</th>\n",
              "      <th>High</th>\n",
              "      <th>Low</th>\n",
              "      <th>Close</th>\n",
              "      <th>Volume</th>\n",
              "      <th>OpenInt</th>\n",
              "    </tr>\n",
              "  </thead>\n",
              "  <tbody>\n",
              "    <tr>\n",
              "      <th>0</th>\n",
              "      <td>1984-09-07</td>\n",
              "      <td>0.42388</td>\n",
              "      <td>0.42902</td>\n",
              "      <td>0.41874</td>\n",
              "      <td>0.42388</td>\n",
              "      <td>23220030</td>\n",
              "      <td>0</td>\n",
              "    </tr>\n",
              "    <tr>\n",
              "      <th>1</th>\n",
              "      <td>1984-09-10</td>\n",
              "      <td>0.42388</td>\n",
              "      <td>0.42516</td>\n",
              "      <td>0.41366</td>\n",
              "      <td>0.42134</td>\n",
              "      <td>18022532</td>\n",
              "      <td>0</td>\n",
              "    </tr>\n",
              "  </tbody>\n",
              "</table>\n",
              "</div>"
            ],
            "text/plain": [
              "        Date     Open     High      Low    Close    Volume  OpenInt\n",
              "0 1984-09-07  0.42388  0.42902  0.41874  0.42388  23220030        0\n",
              "1 1984-09-10  0.42388  0.42516  0.41366  0.42134  18022532        0"
            ]
          },
          "metadata": {},
          "execution_count": 152
        }
      ]
    },
    {
      "cell_type": "code",
      "metadata": {
        "colab": {
          "base_uri": "https://localhost:8080/"
        },
        "id": "u9UwUHrg2RGx",
        "outputId": "a3ca5ab0-d0b4-464e-b7bf-5bf4db858cf0"
      },
      "source": [
        "# выведим минимум и максимум\n",
        "aapl_df['Date'].min(),aapl_df['Date'].max()"
      ],
      "execution_count": 153,
      "outputs": [
        {
          "output_type": "execute_result",
          "data": {
            "text/plain": [
              "(Timestamp('1984-09-07 00:00:00'), Timestamp('2017-11-10 00:00:00'))"
            ]
          },
          "metadata": {},
          "execution_count": 153
        }
      ]
    },
    {
      "cell_type": "code",
      "metadata": {
        "colab": {
          "base_uri": "https://localhost:8080/",
          "height": 286
        },
        "id": "XaMriJxI2tLL",
        "outputId": "539bded4-06e4-4c58-cb13-f4048121faf2"
      },
      "source": [
        "# вывести график зависимости  на старте и даты\n",
        "aapl_df.plot(x='Date',y='Open')"
      ],
      "execution_count": 154,
      "outputs": [
        {
          "output_type": "execute_result",
          "data": {
            "text/plain": [
              "<matplotlib.axes._subplots.AxesSubplot at 0x7f95a008a050>"
            ]
          },
          "metadata": {},
          "execution_count": 154
        },
        {
          "output_type": "display_data",
          "data": {
            "image/png": "[encoded data removed]",
            "text/plain": [
              "<Figure size 432x288 with 1 Axes>"
            ]
          },
          "metadata": {
            "needs_background": "light"
          }
        }
      ]
    },
    {
      "cell_type": "code",
      "metadata": {
        "colab": {
          "base_uri": "https://localhost:8080/",
          "height": 286
        },
        "id": "o5pADBZa3VKG",
        "outputId": "e9ba341e-1d5a-4c08-84e7-ad7b4e26d7f0"
      },
      "source": [
        "# вывести график зависимости цены максимум и даты\n",
        "aapl_df.plot(x='Date',y='High')"
      ],
      "execution_count": 155,
      "outputs": [
        {
          "output_type": "execute_result",
          "data": {
            "text/plain": [
              "<matplotlib.axes._subplots.AxesSubplot at 0x7f959ff41710>"
            ]
          },
          "metadata": {},
          "execution_count": 155
        },
        {
          "output_type": "display_data",
          "data": {
            "image/png": "[encoded data removed]",
            "text/plain": [
              "<Figure size 432x288 with 1 Axes>"
            ]
          },
          "metadata": {
            "needs_background": "light"
          }
        }
      ]
    },
    {
      "cell_type": "code",
      "metadata": {
        "colab": {
          "base_uri": "https://localhost:8080/",
          "height": 173
        },
        "id": "hS0YxyYB4MdG",
        "outputId": "a6af14bc-465d-4a7d-ab8f-44e603e3311b"
      },
      "source": [
        "# корреляци зависимости цен от показателей\n",
        "aapl_df[['Open','Close','Low','High',\t]].corr()"
      ],
      "execution_count": 156,
      "outputs": [
        {
          "output_type": "execute_result",
          "data": {
            "text/html": [
              "<div>\n",
              "<style scoped>\n",
              "    .dataframe tbody tr th:only-of-type {\n",
              "        vertical-align: middle;\n",
              "    }\n",
              "\n",
              "    .dataframe tbody tr th {\n",
              "        vertical-align: top;\n",
              "    }\n",
              "\n",
              "    .dataframe thead th {\n",
              "        text-align: right;\n",
              "    }\n",
              "</style>\n",
              "<table border=\"1\" class=\"dataframe\">\n",
              "  <thead>\n",
              "    <tr style=\"text-align: right;\">\n",
              "      <th></th>\n",
              "      <th>Open</th>\n",
              "      <th>Close</th>\n",
              "      <th>Low</th>\n",
              "      <th>High</th>\n",
              "    </tr>\n",
              "  </thead>\n",
              "  <tbody>\n",
              "    <tr>\n",
              "      <th>Open</th>\n",
              "      <td>1.000000</td>\n",
              "      <td>0.999902</td>\n",
              "      <td>0.999942</td>\n",
              "      <td>0.999956</td>\n",
              "    </tr>\n",
              "    <tr>\n",
              "      <th>Close</th>\n",
              "      <td>0.999902</td>\n",
              "      <td>1.000000</td>\n",
              "      <td>0.999955</td>\n",
              "      <td>0.999953</td>\n",
              "    </tr>\n",
              "    <tr>\n",
              "      <th>Low</th>\n",
              "      <td>0.999942</td>\n",
              "      <td>0.999955</td>\n",
              "      <td>1.000000</td>\n",
              "      <td>0.999928</td>\n",
              "    </tr>\n",
              "    <tr>\n",
              "      <th>High</th>\n",
              "      <td>0.999956</td>\n",
              "      <td>0.999953</td>\n",
              "      <td>0.999928</td>\n",
              "      <td>1.000000</td>\n",
              "    </tr>\n",
              "  </tbody>\n",
              "</table>\n",
              "</div>"
            ],
            "text/plain": [
              "           Open     Close       Low      High\n",
              "Open   1.000000  0.999902  0.999942  0.999956\n",
              "Close  0.999902  1.000000  0.999955  0.999953\n",
              "Low    0.999942  0.999955  1.000000  0.999928\n",
              "High   0.999956  0.999953  0.999928  1.000000"
            ]
          },
          "metadata": {},
          "execution_count": 156
        }
      ]
    },
    {
      "cell_type": "code",
      "metadata": {
        "id": "FG6l4NO2477x"
      },
      "source": [
        "# возьмём последние 6 лет \n",
        "aapl_df_6year=aapl_df[aapl_df['Date']>aapl_df['Date'].max()-timedelta(days=365*6)]"
      ],
      "execution_count": 157,
      "outputs": []
    },
    {
      "cell_type": "code",
      "metadata": {
        "colab": {
          "base_uri": "https://localhost:8080/"
        },
        "id": "TyK6Nvy85_O8",
        "outputId": "aa685c3d-bd36-4367-d2cf-b83e5a854361"
      },
      "source": [
        "aapl_df_6year.shape"
      ],
      "execution_count": 158,
      "outputs": [
        {
          "output_type": "execute_result",
          "data": {
            "text/plain": [
              "(1509, 7)"
            ]
          },
          "metadata": {},
          "execution_count": 158
        }
      ]
    },
    {
      "cell_type": "code",
      "metadata": {
        "id": "OoLETuim6Ce5"
      },
      "source": [
        "train_size = int(aapl_df_6year.shape[0]*0.8)\n",
        "train_aapl_df = aapl_df_6year.iloc[:train_size]\n",
        "test_aapl_df = aapl_df_6year.iloc[train_size:] \n"
      ],
      "execution_count": 159,
      "outputs": []
    },
    {
      "cell_type": "code",
      "metadata": {
        "colab": {
          "base_uri": "https://localhost:8080/"
        },
        "id": "xmhYTHQB6_sf",
        "outputId": "58d43aff-f14c-46cf-db7b-b6f19f3865e3"
      },
      "source": [
        "train_aapl_df.shape, test_aapl_df.shape"
      ],
      "execution_count": 160,
      "outputs": [
        {
          "output_type": "execute_result",
          "data": {
            "text/plain": [
              "((1207, 7), (302, 7))"
            ]
          },
          "metadata": {},
          "execution_count": 160
        }
      ]
    },
    {
      "cell_type": "code",
      "metadata": {
        "colab": {
          "base_uri": "https://localhost:8080/"
        },
        "id": "8qw7Ybz07Rgh",
        "outputId": "1c6360ae-331b-46fb-c8e0-fde5b6322e4a"
      },
      "source": [
        "train_aapl_df['Date'].min(),train_aapl_df['Date'].max(),test_aapl_df['Date'].min(),test_aapl_df['Date'].max(),"
      ],
      "execution_count": 161,
      "outputs": [
        {
          "output_type": "execute_result",
          "data": {
            "text/plain": [
              "(Timestamp('2011-11-14 00:00:00'),\n",
              " Timestamp('2016-08-31 00:00:00'),\n",
              " Timestamp('2016-09-01 00:00:00'),\n",
              " Timestamp('2017-11-10 00:00:00'))"
            ]
          },
          "metadata": {},
          "execution_count": 161
        }
      ]
    },
    {
      "cell_type": "markdown",
      "metadata": {
        "id": "_Z6YphVeCZSU"
      },
      "source": [
        "Bad code"
      ]
    },
    {
      "cell_type": "code",
      "metadata": {
        "id": "JKJCUOMCBqn_"
      },
      "source": [
        "scaler = StandardScaler()\n",
        "scaler.fit(train_aapl_df[['Low']])\n",
        "\n",
        "def make_dataset(\n",
        "    df,\n",
        "    # количество используемых элементов для предсказания следующего\n",
        "    window_size,\n",
        "    # размер партии элементов\n",
        "    batch_size,\n",
        "    use_scaler=True,\n",
        "    # смешивание параметров\n",
        "    shuffle=True,\n",
        "    ):\n",
        "  # берём признаки\n",
        "  features = aapl_df[['Low']].iloc[:-window_size]\n",
        "  if use_scaler:\n",
        "    features = scaler.transform(features)\n",
        "  data = np.array(features,dtype=np.float32)\n",
        "  # tensorflow\n",
        "  ds = tf.keras.preprocessing.timeseries_dataset_from_array(\n",
        "      data=data, \n",
        "      targets=aapl_df['Low'].iloc[window_size:], \n",
        "      sequence_length=window_size,\n",
        "      # сдвиг элементов для создания нового элемента, т.е. последовательность шагов\n",
        "      sequence_stride=1, \n",
        "      shuffle=shuffle,\n",
        "      batch_size=batch_size, \n",
        "  )\n",
        "  return ds"
      ],
      "execution_count": 227,
      "outputs": []
    },
    {
      "cell_type": "code",
      "metadata": {
        "id": "Q-VtMFbf8nhk"
      },
      "source": [
        "# масштабируем для нормализации из библиотеки Scikit-learn\n",
        "scaler = StandardScaler()\n",
        "scaler.fit(train_aapl_df[[\"Low\"]])\n",
        "\n",
        "def make_dataset(\n",
        "  # количество используемых элементов для предсказания следующего\n",
        "    df,\n",
        "  # размер партии элементов\n",
        "    window_size,\n",
        "  # размер партии элементов\n",
        "    batch_size,\n",
        "    use_scaler=True,\n",
        "  # смешивание параметров\n",
        "    shuffle=True\n",
        "    ):\n",
        "  features = df[[\"Low\"]].iloc[:-window_size]\n",
        "  if use_scaler:\n",
        "    features = scaler.transform(features)\n",
        "  data = np.array(features, dtype=np.float32)\n",
        "    # tensorflow\n",
        "  ds = tf.keras.preprocessing.timeseries_dataset_from_array(\n",
        "      data=data,\n",
        "      targets=df[\"Low\"].iloc[window_size:],\n",
        "    # сдвиг элементов для создания нового элемента, т.е. последовательность шагов\n",
        "      sequence_length=window_size,\n",
        "    # сдвиг элементов для создания нового элемента, т.е. последовательность шагов\n",
        "      sequence_stride=1,\n",
        "      shuffle=shuffle,\n",
        "      batch_size=batch_size,\n",
        "      )\n",
        "  return ds"
      ],
      "execution_count": 220,
      "outputs": []
    },
    {
      "cell_type": "code",
      "metadata": {
        "id": "jUl1gDzGchrE"
      },
      "source": [
        "example_ds = make_dataset(df=train_aapl_df,window_size=3,batch_size=2,use_scaler=False,shuffle=False)"
      ],
      "execution_count": 228,
      "outputs": []
    },
    {
      "cell_type": "code",
      "metadata": {
        "id": "KNJmJnL1nzx9"
      },
      "source": [
        "example_feature, example_label = next(example_ds.as_numpy_iterator())"
      ],
      "execution_count": 229,
      "outputs": []
    },
    {
      "cell_type": "code",
      "metadata": {
        "colab": {
          "base_uri": "https://localhost:8080/"
        },
        "id": "Bd62cLNq7nHw",
        "outputId": "ebd0f172-00ed-464d-f81e-165e8839b67f"
      },
      "source": [
        "example_feature.shape\n"
      ],
      "execution_count": 230,
      "outputs": [
        {
          "output_type": "execute_result",
          "data": {
            "text/plain": [
              "(2, 3, 1)"
            ]
          },
          "metadata": {},
          "execution_count": 230
        }
      ]
    },
    {
      "cell_type": "code",
      "metadata": {
        "colab": {
          "base_uri": "https://localhost:8080/"
        },
        "id": "mcMVZ9rhpmxL",
        "outputId": "f0e202f5-f5c1-4a5e-916a-043c1d5210fb"
      },
      "source": [
        "example_label.shape"
      ],
      "execution_count": 231,
      "outputs": [
        {
          "output_type": "execute_result",
          "data": {
            "text/plain": [
              "(2,)"
            ]
          },
          "metadata": {},
          "execution_count": 231
        }
      ]
    },
    {
      "cell_type": "code",
      "metadata": {
        "colab": {
          "base_uri": "https://localhost:8080/"
        },
        "id": "CWcikln-oJzd",
        "outputId": "2e6e4329-5e34-43b0-e831-bfaf9d39369d"
      },
      "source": [
        "train_aapl_df['Low'].iloc[:6]\n",
        "# size batch\n",
        "# size window\n",
        "# size feature"
      ],
      "execution_count": 232,
      "outputs": [
        {
          "output_type": "execute_result",
          "data": {
            "text/plain": [
              "6855    48.432\n",
              "6856    48.592\n",
              "6857    49.217\n",
              "6858    48.086\n",
              "6859    48.009\n",
              "6860    46.860\n",
              "Name: Low, dtype: float64"
            ]
          },
          "metadata": {},
          "execution_count": 232
        }
      ]
    },
    {
      "cell_type": "markdown",
      "metadata": {
        "id": "MRxp3a8F6vjh"
      },
      "source": [
        ""
      ]
    },
    {
      "cell_type": "code",
      "metadata": {
        "colab": {
          "base_uri": "https://localhost:8080/"
        },
        "id": "crMFrw5j2vd_",
        "outputId": "5b708de0-907c-48da-c001-ebc890451e34"
      },
      "source": [
        "print(example_feature[0])\n",
        "print(example_label[0])\n",
        "print(example_feature[1])\n",
        "print(example_label[1])\n",
        "# первые три элемента признак, следующй лабел. это настраивается"
      ],
      "execution_count": 233,
      "outputs": [
        {
          "output_type": "stream",
          "name": "stdout",
          "text": [
            "[[0.41874]\n",
            " [0.41366]\n",
            " [0.42516]]\n",
            "0.41618\n",
            "[[0.41366]\n",
            " [0.42516]\n",
            " [0.41618]]\n",
            "0.43927\n"
          ]
        }
      ]
    },
    {
      "cell_type": "code",
      "metadata": {
        "id": "Q7yTvZuI3G-C"
      },
      "source": [
        ""
      ],
      "execution_count": 226,
      "outputs": []
    }
  ]
}